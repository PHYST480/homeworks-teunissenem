{
 "cells": [
  {
   "cell_type": "markdown",
   "metadata": {},
   "source": [
    "# Homework 1: Problems\n",
    "### PHYS T480/580, Fall 2018\n",
    "https://github.com/gtrichards/PHYS_T480_F18/\n",
    "\n",
    "\n",
    "## Problem 1\n",
    "\n",
    "Practice your git and github skills by submitting this homework via github:\n",
    "\n",
    "* Clone the class github repository to your computer, the one at https://github.com/gtrichards/PHYS_T480_F18/  (should already have done this).\n",
    "* Click the Github Classroom link you received via the mailing list. This will create a private github repository through which you'll be submitting your homeworks. Clone that repository to your computer.\n",
    "* Copy this notebook from the class github repository to your private homework submission repository. IMPORTANT: rename it to `<filename>-FirstLast.ipynb` once you copy it, where `<filename>` is the existing filename and `FirstLast` are your first and last name. Example: `PHYST480-F18-HW1-GordonRichards.ipynb`.\n",
    "* Solve problems #2, #3, and #4 by filling in the missing cells in the copied notebook.\n",
    "* Commit the notebook to your repository, and `git push` it upstream.\n",
    "\n",
    "\n",
    "## Problem 2\n",
    "Generate a sample of 10,000 data values drawn from N($\\mu$=1.0, $\\sigma$=0.2) and\n",
    "draw a pretty histogram, with the bin size determined using the Freedman-Diaconis\n",
    "rule. Overplot the true distribution. \n",
    "\n",
    "## Problem 3\n",
    "Repeat the problem 2, but now add to the Gaussian sample (concatenate arrays with `np.concatenate()`) \n",
    "another sample of 10,000 data values drawn from a `cauchy` distribution with\n",
    "$\\mu=2.0$ and $\\gamma=0.5$. Do it twice: once with the bin size determined \n",
    "using the Freedman-Diaconis rule and once using the Scott's rule. Comment. \n",
    "\n",
    "\n",
    "## Problem 4\n",
    "Follow the example from the Central Limit Theorem cells in BasicStats2.ipynb and simulate the distribution of 1,000,000 $\\mathscr{N}(0,1)$ draws of $\\chi^2$ for `N=2` and `N=5`.  Overplot the theoretical pdf (it will help to use `scipy.special.gamma()`)."
   ]
  },
  {
   "cell_type": "markdown",
   "metadata": {},
   "source": [
    "### Some useful definitions and functions"
   ]
  },
  {
   "cell_type": "code",
   "execution_count": 1,
   "metadata": {},
   "outputs": [],
   "source": [
    "import numpy as np\n",
    "from matplotlib import pyplot as plt\n",
    "from scipy import optimize\n",
    "from scipy.stats import cauchy, norm\n",
    "# from astroML.plotting import setup_text_plots\n",
    "# from astroML.stats import sigmaG\n",
    "# from astroML.plotting import hist as fancyhist\n",
    "# setup_text_plots(fontsize=14, usetex=True)\n",
    "%matplotlib inline"
   ]
  },
  {
   "cell_type": "markdown",
   "metadata": {},
   "source": [
    "This astroML function adjusts matplotlib settings for a uniform feel in the \n",
    "textbook. Note that with `usetex=True`, fonts are rendered with $\\LaTeX$. This \n",
    "may result in an error if $\\LaTeX$ is not installed on your system.  In that \n",
    "case, you can set usetex to `False`."
   ]
  },
  {
   "cell_type": "code",
   "execution_count": 9,
   "metadata": {
    "scrolled": true
   },
   "outputs": [
    {
     "name": "stdout",
     "output_type": "stream",
     "text": [
      "\n",
      "Binsize: 0.025105314429719878\n"
     ]
    },
    {
     "data": {
      "image/png": "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\n",
      "text/plain": [
       "<Figure size 432x288 with 1 Axes>"
      ]
     },
     "metadata": {},
     "output_type": "display_data"
    }
   ],
   "source": [
    "# Problem 2\n",
    "# Generate 10000 data values from N(mu=1.0,sigma=0.2)\n",
    "# Draw histogram, bin size determined from Freedman-Diaconis rule\n",
    "# Overplot true distribution\n",
    "\n",
    "#Creating distribution\n",
    "N = 10000\n",
    "mu = 1.0\n",
    "sigma = 0.2\n",
    "normDist = norm(mu,sigma)\n",
    "normData = normDist.rvs(N)\n",
    "trueNormData = normDist.pdf(normData)\n",
    "\n",
    "#Calculating binsize from Freedman-Diaconis Rule\n",
    "q25,q75 = np.percentile(normData,[25,75]) \n",
    "sigmaG = 0.7413*(q75-q25)\n",
    "binsize = 2.7*sigmaG/(N**(1.0/3.0))\n",
    "bins = np.append(np.arange(start=np.min(np.sort(normData)),stop=np.max(np.sort(normData)),step=binsize),np.max(np.sort(normData)))\n",
    "\n",
    "\n",
    "#Plotting distributions\n",
    "plt.hist(normData    ,bins=bins,density=True,histtype=\"step\") #histogram with N draws & bin sized according to Freedman-Diaconis\n",
    "plt.hist(trueNormData,bins=bins,density=True,histtype=\"step\") #histogram of true distribution\n",
    "print()\n",
    "print(\"Binsize:\",str(binsize))"
   ]
  },
  {
   "cell_type": "code",
   "execution_count": 14,
   "metadata": {},
   "outputs": [
    {
     "name": "stdout",
     "output_type": "stream",
     "text": [
      "\n",
      "Freedman-Diaconis Binsize: 0.045117337386574634\n"
     ]
    },
    {
     "data": {
      "image/png": "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\n",
      "text/plain": [
       "<Figure size 432x288 with 1 Axes>"
      ]
     },
     "metadata": {},
     "output_type": "display_data"
    }
   ],
   "source": [
    "#Problem 3\n",
    "# Repeat Problem 2, but add to the guassian sample (concatenate arrays with np.concatenate())\n",
    "#10000 values drawn from cauchy distribution with mu = 2.0 and gamma = 0.5 \n",
    "#Calculate two binsizes, from Freedman-Diaconis and Scott's Rule\n",
    "\n",
    "muTwo = 2.0\n",
    "gamma = 0.5\n",
    "cauchyDist = cauchy(muTwo,gamma)\n",
    "cauchyData = cauchyDist.rvs(N)\n",
    "N = N*2\n",
    "trueCauchyData = cauchyDist.pdf(cauchyData)\n",
    "\n",
    "totalData = np.concatenate((normData,cauchyData))\n",
    "trueTotalData = np.concatenate((trueNormData,trueCauchyData))\n",
    "\n",
    "#Calculating binsize from Freedman-Diaconis Rule\n",
    "q25,q75 = np.percentile(totalData,[25,75]) \n",
    "sigmaG = 0.7413*(q75-q25)\n",
    "binsizeFreedman = (2.7*sigmaG)/(N**(1.0/3.0)) \n",
    "freedmanBins = np.append(np.arange(start=np.min(np.sort(totalData)),stop=np.max(np.sort(totalData)),step=binsizeFreedman),np.max(np.sort(totalData))) \n",
    "\n",
    "#Calculating binsize from Scott's Rule\n",
    "binsizeScott = (3.5*gamma)/(N**(1.0/3.0))\n",
    "scottBins = np.append(np.arange(start=np.min(np.sort(totalData)),stop=np.max(np.sort(totalData)),step=binsizeScott),np.max(np.sort(totalData)))\n",
    "\n",
    "#Plotting distributions\n",
    "plt.hist(totalData,bins=freedmanBins,density = True,histtype=\"step\") #histogram with N draws & bin sized according to Freedman-Diaconis\n",
    "# plt.hist(trueTotalData,bins=freedmanBins,density=True,histtype=\"step\") #histogram of true distribution\n",
    "print()\n",
    "print(\"Freedman-Diaconis Binsize:\",str(binsizeFreedman))"
   ]
  },
  {
   "cell_type": "code",
   "execution_count": 15,
   "metadata": {},
   "outputs": [
    {
     "name": "stdout",
     "output_type": "stream",
     "text": [
      "\n",
      "Scott's Binsize: 0.03223527561310339\n"
     ]
    },
    {
     "data": {
      "image/png": "iVBORw0KGgoAAAANSUhEUgAAAXcAAAD8CAYAAACMwORRAAAABHNCSVQICAgIfAhkiAAAAAlwSFlzAAALEgAACxIB0t1+/AAAADl0RVh0U29mdHdhcmUAbWF0cGxvdGxpYiB2ZXJzaW9uIDIuMi4yLCBodHRwOi8vbWF0cGxvdGxpYi5vcmcvhp/UCwAAEIxJREFUeJzt3H+sZGV9x/H3p+wqrWj5sbeVLguLKWkqiS24QYlNQ2ptgRKJqSaQxt/NJipVU5sGJMFU0z/QxhqKEWkkSoOIirWrXULRQsSkIgsuP1d0pT/YsJFFFCT+6sq3f9yzMnuZe2bu3Ll77zx9v5LJnnnOM2e+M/vM554555mTqkKS1JZfWu0CJEnTZ7hLUoMMd0lqkOEuSQ0y3CWpQYa7JDXIcJekBhnuktQgw12SGrRutZ54w4YNtXnz5tV6ekmaSXfcccejVTU3qt+qhfvmzZvZsWPHaj29JM2kJP89Tj8Py0hSgwx3SWqQ4S5JDTLcJalBhrskNchwl6QGGe6S1CDDXZIaZLhr9nz5ffCTx1e7CmlNM9w1e279O/j+f612FdKaZrhLUoMMd0lqkOEuSQ0y3CWpQYa7JDXIcJekBhnumk1Vq12BtKYZ7pLUIMNdkhpkuEtSgwx3SWqQ4S5JDTLcJalBhrskNWhkuCfZlOTmJLuS3JfkHUP6nJHk8SQ7u9slK1OudIDz3KU+68bosx94V1XdmeS5wB1Jbqqq+xf0u7Wqzpl+iZKkpRq5515Ve6vqzm75h8AuYONKFyZJmtySjrkn2QycAtw2ZPXpSe5KckOSkxd5/NYkO5Ls2Ldv35KLlSSNZ+xwT3IEcD3wzqp6YsHqO4ETqup3gH8APj9sG1V1ZVVtqaotc3Nzk9YsSRphrHBPsp75YL+mqj63cH1VPVFVT3bL24H1STZMtVJJ0tjGmS0T4GPArqr64CJ9nt/1I8lp3Xa/N81CJUnjG2e2zMuA1wL3JNnZtb0bOB6gqq4AXg28Jcl+4MfAeVVek1UryOEl9RoZ7lX1VSAj+lwOXD6toiRJy+MvVCWpQYa7JDXIcJekBhnuktQgw12SGmS4S1KDDHfNKOe5S30Md0lqkOEuSQ0y3CWpQYa7JDXIcJekBhnuktQgw12zyZmQUi/DXZIaZLhLUoMMd0lqkOEuSQ0y3CWpQYa7JDXIcJekBhnumlFOdJf6GO6S1CDDXZIaZLhLUoMMd0lqkOEuSQ0y3CWpQSPDPcmmJDcn2ZXkviTvGNInSS5LsjvJ3UlOXZlyJUnjWDdGn/3Au6rqziTPBe5IclNV3T/Q5yzgpO72EuAj3b/SyijnuUt9Ru65V9XeqrqzW/4hsAvYuKDbucDVNe9rwJFJjp16tZKksSzpmHuSzcApwG0LVm0EHhq4v4dn/gGQJB0iY4d7kiOA64F3VtUTC1cPecgzvjcn2ZpkR5Id+/btW1qlkqSxjRXuSdYzH+zXVNXnhnTZA2wauH8c8PDCTlV1ZVVtqaotc3Nzk9QrSRrDOLNlAnwM2FVVH1yk2zbgdd2smZcCj1fV3inWKUlagnFmy7wMeC1wT5KdXdu7geMBquoKYDtwNrAb+BHwxumXKkka18hwr6qvMvyY+mCfAt42raKk0ZwKKfXxF6qS1CDDXZIaZLhLUoMMd0lqkOEuSQ0y3CWpQYa7JDXIcNds8pK/Ui/DXZIaZLhLUoMMd0lqkOEuSQ0y3CWpQYa7JDXIcJekBhnumlHOc5f6GO6S1CDDXZIaZLhLUoMMd0lqkOEuSQ0y3CWpQYa7ZpOX/JV6Ge6S1CDDXZIaZLhLUoMMd0lqkOEuSQ0y3CWpQSPDPclVSR5Jcu8i689I8niSnd3tkumXKUlainVj9Pk4cDlwdU+fW6vqnKlUJI3Fee5Sn5F77lX1FeCxQ1CLJGlKpnXM/fQkdyW5IcnJU9qmJGlC4xyWGeVO4ISqejLJ2cDngZOGdUyyFdgKcPzxx0/hqSVJwyx7z72qnqiqJ7vl7cD6JBsW6XtlVW2pqi1zc3PLfWpJ0iKWHe5Jnp8k3fJp3Ta/t9ztSpImN/KwTJJrgTOADUn2AO8B1gNU1RXAq4G3JNkP/Bg4r8pL9knSahoZ7lV1/oj1lzM/VVKStEb4C1XNJr8cSr0Md0lqkOEuSQ0y3CWpQYa7JDXIcJekBhnuktQgw10zyqmQUh/DXZIaZLhLUoMMd0lqkOEuSQ0y3CWpQYa7JDXIcJekBhnumk1e8lfqZbhLUoMMd0lqkOEuSQ0y3CWpQYa7JDXIcJekBhnuktQgw10zynnuUh/DXZIaZLhLUoMMd0lqkOEuSQ0y3CWpQSPDPclVSR5Jcu8i65PksiS7k9yd5NTplylJWopx9tw/DpzZs/4s4KTuthX4yPLLkkbwkr9Sr5HhXlVfAR7r6XIucHXN+xpwZJJjp1WgJGnppnHMfSPw0MD9PV3bMyTZmmRHkh379u2bwlNLkoaZRrhnSNvQ78xVdWVVbamqLXNzc1N4aknSMNMI9z3ApoH7xwEPT2G7kqQJTSPctwGv62bNvBR4vKr2TmG7kqQJrRvVIcm1wBnAhiR7gPcA6wGq6gpgO3A2sBv4EfDGlSpWkjSekeFeVeePWF/A26ZWkSRp2fyFqmaU89ylPoa7JDXIcJekBhnuktQgw12SGmS4S1KDDHdJapDhLkkNMtw1m7yeu9TLcJekBhnuktQgw12SGmS4S1KDDHdJapDhLkkNMtw1o5wKKfUx3CWpQYa7JDXIcJekBhnuktQgw12SGmS4S1KDDHdJapDhrtnkJX+lXoa7JDXIcJekBhnumkk/f8rDMlIfw10z6aHv/3i1S5DWtLHCPcmZSR5IsjvJhUPWvyHJviQ7u9ufT79USdK41o3qkOQw4MPAK4A9wO1JtlXV/Qu6XldVF6xAjdIzZbULkNa2cfbcTwN2V9WDVfUz4FPAuStbliRpOcYJ943AQwP393RtC/1pkruTfDbJpqlUJy0iznOXeo0T7sO+AC/8ZH0B2FxVLwK+BHxi6IaSrUl2JNmxb9++pVUqDYiHZaRe44T7HmBwT/w44OHBDlX1var6aXf3H4EXD9tQVV1ZVVuqasvc3Nwk9UqA4S6NMk643w6clOTEJM8CzgO2DXZIcuzA3VcCu6ZXojSM6S71GTlbpqr2J7kAuBE4DLiqqu5L8l5gR1VtA96e5JXAfuAx4A0rWLNktEsjjAx3gKraDmxf0HbJwPJFwEXTLU1anOEu9fMXqppJHnOX+hnuktQgw12SGmS4ayZ5VEbqZ7hrJsWD7lIvw10zyWiX+hnumk2mu9TLcNdMMtulfoa7ZpLhLvUz3DWjvOSv1Mdw10xysozUz3DXjDLdpT6Gu2aS0S71M9w1kzwsI/Uz3DWjTHepj+GumeSeu9TPcNdMSjkVUupjuGs2uecu9TLcNZNiuku9DHfNJrNd6mW4ayaZ7VI/w10zydkyUj/DXZIaZLhrJrnjLvUz3DWTDHepn+Gu2WS6S70Md80ks13qZ7hLUoMMd82kOBdS6jVWuCc5M8kDSXYnuXDI+mcnua5bf1uSzdMuVBpktEv9RoZ7ksOADwNnAS8Ezk/ywgXd3gx8v6p+E/h74NJpFyodxHSXeo2z534asLuqHqyqnwGfAs5d0Odc4BPd8meBl8fvzVpBXjhM6rdujD4bgYcG7u8BXrJYn6ran+Rx4Bjg0WkUOeipp4r/uO5SnvM/N09702vC2rtM+ZoriFOAvZ95Fz84/EOrXYq0ZA+vO46T33AZJxzznBV9nnHCfdgu0sJP/Dh9SLIV2NrdfTLJA2M8/0IbWIE/GivEWlfMExtg16zUO0vvrbWujINr/aurlrOtE8bpNE647wE2Ddw/Dnh4kT57kqwDfhV4bOGGqupK4MpxCltMkh1VtWU52zhUrHXlzFK91royrLXfOMfcbwdOSnJikmcB5wHbFvTZBry+W3418O9Va+8AgyT9fzFyz707hn4BcCNwGHBVVd2X5L3AjqraBnwM+Kcku5nfYz9vJYuWJPUb57AMVbUd2L6g7ZKB5Z8Ar5luaYta1mGdQ8xaV84s1WutK8Nae8SjJ5LUHi8/IEkNWhPhnuR9Se5OsjPJvyX5ja49SS7rLmtwd5JTBx7z+iTf7m6vH2h/cZJ7usdcduDHVEmOTnJT1/+mJEdNWOsHknyzq+efkxw5sO6i7nkfSPLHA+1DL9/QnaS+ravpuu6E9dQu55DkNUnuS/JUki0L1q2pWpfwmnovhbGCz3tVkkeS3DvQNnRMTXPcTljrpiQ3J9nV/f+/Y63Wm+TwJF9PcldX69907Useb0sd05NKcliSbyT54pqutapW/QY8b2D57cAV3fLZwA3Mz6N/KXBb13408GD371Hd8lHduq8Dp3ePuQE4q2t/P3Bht3whcOmEtf4RsK5bvvTAdpi/NMNdwLOBE4HvMH8C+rBu+QXAs7o+L+we82ngvG75CuAt3fJbB96D84DrJqz1t4HfAm4Btgy0r7lax3w9i9Z3CMbo7wOnAvcOtA0dU9MctxPWeixwarf8XOBb3f/5mqu3e/wR3fJ64LauhiWNt0nG9DLe378EPgl8cZLPxqGqdcU/FBO8cRcBH+mWPwqcP7DugW7gng98dKD9o13bscA3B9p/0e/AYwcG/wNTqPVVwDUDdV80sO7GbvCfDty44PVd1A3qR3n6D8Uv+h14bLe8ruuXZdR5CweH+5qtdcTrGFrfIRybmzk43IeOqWmO2ynV/S/AK9Z6vcCvAHcy/wv4JY23pY7pZdR4HPBl4A+AL07y2ThUta6JwzIASf42yUPAnwEHZuIMu/TBxhHte4a0A/x6Ve0F6P79tSmU/Sbm91omqfUY4AdVtX9IrQddzgE4cDmHaZmlWsepe7UsNqamOW6XpTsUcArze8Rrst7uMMdO4BHgJub3Xpc63pb6Gib1IeCvgae6+5N8Ng5JrYcs3JN8Kcm9Q27nAlTVxVW1CbgGuODAw4ZsqiZon2qtXZ+Lgf1dvdOudezXMU6twx62GrVOwaF8ruVYlXH7jCKSI4DrgXdW1RN9XZdY11TrraqfV9XvMr9XfBrzhxMX2/6q1ZrkHOCRqrpjsLln+6v6vo41z30aquoPx+z6SeBfgfew+KUP9gBnLGi/pWs/bkh/gO8mObaq9iY5lvm9hIlq7U4snQO8vLrvTz21skj7o8CRSdZ1f9UH+491OYdxal3EqtQ6BeNcCuNQWmxMTXPcTiTJeuaD/Zqq+txarxegqn6Q5Bbmj7kvdbwtdUxP4mXAK5OcDRwOPI/5Pfm1WOvaOOYOnDSw/BfAZ7vlP+HgEz1f79qPBv6T+ZM8R3XLR3frbu/6HjjRc3bX/gEOPpn0/glrPRO4H5hb0H4yB58keZD5EyTruuUTefokycndYz7DwSdi3totv42DT8R8epnv7y0cfMx9zdY64nUsWt8hGqebOfiY+9AxNc1xO2GdAa4GPrSgfc3VC8wBR3bLvwzcyvyO05LG2yRjeplj4QyePqG6Jms9JB+KMd6o64F7gbuBLwAbBwbph5k/BncPBwfUm4Dd3e2NA+1bum19B7icp3+odQzzJ0K+3f179IS17mb+uNjO7nbFwLqLu+d9gIHZA8zPRvhWt+7igfYXMD/rYHc3QJ7dtR/e3d/drX/BhLW+ivm9hJ8C3+XgkzVrqtYlvKah9R2CMXotsBf43+49ffNiY2qa43bCWn+P+a/zdw+M07PXYr3Ai4BvdLXeC1wy6Xhb6phe5ng4g6fDfU3W6i9UJalBa2a2jCRpegx3SWqQ4S5JDTLcJalBhrskNchwl6QGGe6S1CDDXZIa9H9wHTLy9nVa3gAAAABJRU5ErkJggg==\n",
      "text/plain": [
       "<Figure size 432x288 with 1 Axes>"
      ]
     },
     "metadata": {},
     "output_type": "display_data"
    }
   ],
   "source": [
    "plt.hist(totalData,bins=scottBins,density=True,histtype=\"step\") #histogram with N draws & bin sized according to Freedman-Diaconis\n",
    "plt.hist(trueTotalData,bins=scottBins,density=True,histtype=\"step\") #histogram of true distribution\n",
    "print()\n",
    "print(\"Scott's Binsize:\",str(binsizeScott))"
   ]
  },
  {
   "cell_type": "code",
   "execution_count": 4,
   "metadata": {},
   "outputs": [
    {
     "data": {
      "text/plain": [
       "[<matplotlib.lines.Line2D at 0x7f99b883d908>]"
      ]
     },
     "execution_count": 4,
     "metadata": {},
     "output_type": "execute_result"
    },
    {
     "name": "stdout",
     "output_type": "stream",
     "text": [
      "Error in callback <function install_repl_displayhook.<locals>.post_execute at 0x7f99c1576950> (for post_execute):\n"
     ]
    },
    {
     "ename": "OverflowError",
     "evalue": "Exceeded cell block limit (set 'agg.path.chunksize' rcparam)",
     "output_type": "error",
     "traceback": [
      "\u001b[0;31m---------------------------------------------------------------------------\u001b[0m",
      "\u001b[0;31mOverflowError\u001b[0m                             Traceback (most recent call last)",
      "\u001b[0;32m/opt/anaconda3/lib/python3.6/site-packages/matplotlib/backends/backend_agg.py\u001b[0m in \u001b[0;36mdraw_path\u001b[0;34m(self, gc, path, transform, rgbFace)\u001b[0m\n\u001b[1;32m    170\u001b[0m             \u001b[0;32mtry\u001b[0m\u001b[0;34m:\u001b[0m\u001b[0;34m\u001b[0m\u001b[0m\n\u001b[0;32m--> 171\u001b[0;31m                 \u001b[0mself\u001b[0m\u001b[0;34m.\u001b[0m\u001b[0m_renderer\u001b[0m\u001b[0;34m.\u001b[0m\u001b[0mdraw_path\u001b[0m\u001b[0;34m(\u001b[0m\u001b[0mgc\u001b[0m\u001b[0;34m,\u001b[0m \u001b[0mpath\u001b[0m\u001b[0;34m,\u001b[0m \u001b[0mtransform\u001b[0m\u001b[0;34m,\u001b[0m \u001b[0mrgbFace\u001b[0m\u001b[0;34m)\u001b[0m\u001b[0;34m\u001b[0m\u001b[0m\n\u001b[0m\u001b[1;32m    172\u001b[0m             \u001b[0;32mexcept\u001b[0m \u001b[0mOverflowError\u001b[0m\u001b[0;34m:\u001b[0m\u001b[0;34m\u001b[0m\u001b[0m\n",
      "\u001b[0;31mOverflowError\u001b[0m: In draw_path: Exceeded cell block limit",
      "\nDuring handling of the above exception, another exception occurred:\n",
      "\u001b[0;31mOverflowError\u001b[0m                             Traceback (most recent call last)",
      "\u001b[0;32m/opt/anaconda3/lib/python3.6/site-packages/matplotlib/pyplot.py\u001b[0m in \u001b[0;36mpost_execute\u001b[0;34m()\u001b[0m\n\u001b[1;32m    147\u001b[0m             \u001b[0;32mdef\u001b[0m \u001b[0mpost_execute\u001b[0m\u001b[0;34m(\u001b[0m\u001b[0;34m)\u001b[0m\u001b[0;34m:\u001b[0m\u001b[0;34m\u001b[0m\u001b[0m\n\u001b[1;32m    148\u001b[0m                 \u001b[0;32mif\u001b[0m \u001b[0mmatplotlib\u001b[0m\u001b[0;34m.\u001b[0m\u001b[0mis_interactive\u001b[0m\u001b[0;34m(\u001b[0m\u001b[0;34m)\u001b[0m\u001b[0;34m:\u001b[0m\u001b[0;34m\u001b[0m\u001b[0m\n\u001b[0;32m--> 149\u001b[0;31m                     \u001b[0mdraw_all\u001b[0m\u001b[0;34m(\u001b[0m\u001b[0;34m)\u001b[0m\u001b[0;34m\u001b[0m\u001b[0m\n\u001b[0m\u001b[1;32m    150\u001b[0m \u001b[0;34m\u001b[0m\u001b[0m\n\u001b[1;32m    151\u001b[0m             \u001b[0;31m# IPython >= 2\u001b[0m\u001b[0;34m\u001b[0m\u001b[0;34m\u001b[0m\u001b[0m\n",
      "\u001b[0;32m/opt/anaconda3/lib/python3.6/site-packages/matplotlib/_pylab_helpers.py\u001b[0m in \u001b[0;36mdraw_all\u001b[0;34m(cls, force)\u001b[0m\n\u001b[1;32m    134\u001b[0m         \u001b[0;32mfor\u001b[0m \u001b[0mf_mgr\u001b[0m \u001b[0;32min\u001b[0m \u001b[0mcls\u001b[0m\u001b[0;34m.\u001b[0m\u001b[0mget_all_fig_managers\u001b[0m\u001b[0;34m(\u001b[0m\u001b[0;34m)\u001b[0m\u001b[0;34m:\u001b[0m\u001b[0;34m\u001b[0m\u001b[0m\n\u001b[1;32m    135\u001b[0m             \u001b[0;32mif\u001b[0m \u001b[0mforce\u001b[0m \u001b[0;32mor\u001b[0m \u001b[0mf_mgr\u001b[0m\u001b[0;34m.\u001b[0m\u001b[0mcanvas\u001b[0m\u001b[0;34m.\u001b[0m\u001b[0mfigure\u001b[0m\u001b[0;34m.\u001b[0m\u001b[0mstale\u001b[0m\u001b[0;34m:\u001b[0m\u001b[0;34m\u001b[0m\u001b[0m\n\u001b[0;32m--> 136\u001b[0;31m                 \u001b[0mf_mgr\u001b[0m\u001b[0;34m.\u001b[0m\u001b[0mcanvas\u001b[0m\u001b[0;34m.\u001b[0m\u001b[0mdraw_idle\u001b[0m\u001b[0;34m(\u001b[0m\u001b[0;34m)\u001b[0m\u001b[0;34m\u001b[0m\u001b[0m\n\u001b[0m\u001b[1;32m    137\u001b[0m \u001b[0;34m\u001b[0m\u001b[0m\n\u001b[1;32m    138\u001b[0m \u001b[0matexit\u001b[0m\u001b[0;34m.\u001b[0m\u001b[0mregister\u001b[0m\u001b[0;34m(\u001b[0m\u001b[0mGcf\u001b[0m\u001b[0;34m.\u001b[0m\u001b[0mdestroy_all\u001b[0m\u001b[0;34m)\u001b[0m\u001b[0;34m\u001b[0m\u001b[0m\n",
      "\u001b[0;32m/opt/anaconda3/lib/python3.6/site-packages/matplotlib/backend_bases.py\u001b[0m in \u001b[0;36mdraw_idle\u001b[0;34m(self, *args, **kwargs)\u001b[0m\n\u001b[1;32m   2053\u001b[0m         \u001b[0;32mif\u001b[0m \u001b[0;32mnot\u001b[0m \u001b[0mself\u001b[0m\u001b[0;34m.\u001b[0m\u001b[0m_is_idle_drawing\u001b[0m\u001b[0;34m:\u001b[0m\u001b[0;34m\u001b[0m\u001b[0m\n\u001b[1;32m   2054\u001b[0m             \u001b[0;32mwith\u001b[0m \u001b[0mself\u001b[0m\u001b[0;34m.\u001b[0m\u001b[0m_idle_draw_cntx\u001b[0m\u001b[0;34m(\u001b[0m\u001b[0;34m)\u001b[0m\u001b[0;34m:\u001b[0m\u001b[0;34m\u001b[0m\u001b[0m\n\u001b[0;32m-> 2055\u001b[0;31m                 \u001b[0mself\u001b[0m\u001b[0;34m.\u001b[0m\u001b[0mdraw\u001b[0m\u001b[0;34m(\u001b[0m\u001b[0;34m*\u001b[0m\u001b[0margs\u001b[0m\u001b[0;34m,\u001b[0m \u001b[0;34m**\u001b[0m\u001b[0mkwargs\u001b[0m\u001b[0;34m)\u001b[0m\u001b[0;34m\u001b[0m\u001b[0m\n\u001b[0m\u001b[1;32m   2056\u001b[0m \u001b[0;34m\u001b[0m\u001b[0m\n\u001b[1;32m   2057\u001b[0m     \u001b[0;32mdef\u001b[0m \u001b[0mdraw_cursor\u001b[0m\u001b[0;34m(\u001b[0m\u001b[0mself\u001b[0m\u001b[0;34m,\u001b[0m \u001b[0mevent\u001b[0m\u001b[0;34m)\u001b[0m\u001b[0;34m:\u001b[0m\u001b[0;34m\u001b[0m\u001b[0m\n",
      "\u001b[0;32m/opt/anaconda3/lib/python3.6/site-packages/matplotlib/backends/backend_agg.py\u001b[0m in \u001b[0;36mdraw\u001b[0;34m(self)\u001b[0m\n\u001b[1;32m    431\u001b[0m             \u001b[0;31m# if toolbar:\u001b[0m\u001b[0;34m\u001b[0m\u001b[0;34m\u001b[0m\u001b[0m\n\u001b[1;32m    432\u001b[0m             \u001b[0;31m#     toolbar.set_cursor(cursors.WAIT)\u001b[0m\u001b[0;34m\u001b[0m\u001b[0;34m\u001b[0m\u001b[0m\n\u001b[0;32m--> 433\u001b[0;31m             \u001b[0mself\u001b[0m\u001b[0;34m.\u001b[0m\u001b[0mfigure\u001b[0m\u001b[0;34m.\u001b[0m\u001b[0mdraw\u001b[0m\u001b[0;34m(\u001b[0m\u001b[0mself\u001b[0m\u001b[0;34m.\u001b[0m\u001b[0mrenderer\u001b[0m\u001b[0;34m)\u001b[0m\u001b[0;34m\u001b[0m\u001b[0m\n\u001b[0m\u001b[1;32m    434\u001b[0m             \u001b[0;31m# A GUI class may be need to update a window using this draw, so\u001b[0m\u001b[0;34m\u001b[0m\u001b[0;34m\u001b[0m\u001b[0m\n\u001b[1;32m    435\u001b[0m             \u001b[0;31m# don't forget to call the superclass.\u001b[0m\u001b[0;34m\u001b[0m\u001b[0;34m\u001b[0m\u001b[0m\n",
      "\u001b[0;32m/opt/anaconda3/lib/python3.6/site-packages/matplotlib/artist.py\u001b[0m in \u001b[0;36mdraw_wrapper\u001b[0;34m(artist, renderer, *args, **kwargs)\u001b[0m\n\u001b[1;32m     53\u001b[0m                 \u001b[0mrenderer\u001b[0m\u001b[0;34m.\u001b[0m\u001b[0mstart_filter\u001b[0m\u001b[0;34m(\u001b[0m\u001b[0;34m)\u001b[0m\u001b[0;34m\u001b[0m\u001b[0m\n\u001b[1;32m     54\u001b[0m \u001b[0;34m\u001b[0m\u001b[0m\n\u001b[0;32m---> 55\u001b[0;31m             \u001b[0;32mreturn\u001b[0m \u001b[0mdraw\u001b[0m\u001b[0;34m(\u001b[0m\u001b[0martist\u001b[0m\u001b[0;34m,\u001b[0m \u001b[0mrenderer\u001b[0m\u001b[0;34m,\u001b[0m \u001b[0;34m*\u001b[0m\u001b[0margs\u001b[0m\u001b[0;34m,\u001b[0m \u001b[0;34m**\u001b[0m\u001b[0mkwargs\u001b[0m\u001b[0;34m)\u001b[0m\u001b[0;34m\u001b[0m\u001b[0m\n\u001b[0m\u001b[1;32m     56\u001b[0m         \u001b[0;32mfinally\u001b[0m\u001b[0;34m:\u001b[0m\u001b[0;34m\u001b[0m\u001b[0m\n\u001b[1;32m     57\u001b[0m             \u001b[0;32mif\u001b[0m \u001b[0martist\u001b[0m\u001b[0;34m.\u001b[0m\u001b[0mget_agg_filter\u001b[0m\u001b[0;34m(\u001b[0m\u001b[0;34m)\u001b[0m \u001b[0;32mis\u001b[0m \u001b[0;32mnot\u001b[0m \u001b[0;32mNone\u001b[0m\u001b[0;34m:\u001b[0m\u001b[0;34m\u001b[0m\u001b[0m\n",
      "\u001b[0;32m/opt/anaconda3/lib/python3.6/site-packages/matplotlib/figure.py\u001b[0m in \u001b[0;36mdraw\u001b[0;34m(self, renderer)\u001b[0m\n\u001b[1;32m   1473\u001b[0m \u001b[0;34m\u001b[0m\u001b[0m\n\u001b[1;32m   1474\u001b[0m             mimage._draw_list_compositing_images(\n\u001b[0;32m-> 1475\u001b[0;31m                 renderer, self, artists, self.suppressComposite)\n\u001b[0m\u001b[1;32m   1476\u001b[0m \u001b[0;34m\u001b[0m\u001b[0m\n\u001b[1;32m   1477\u001b[0m             \u001b[0mrenderer\u001b[0m\u001b[0;34m.\u001b[0m\u001b[0mclose_group\u001b[0m\u001b[0;34m(\u001b[0m\u001b[0;34m'figure'\u001b[0m\u001b[0;34m)\u001b[0m\u001b[0;34m\u001b[0m\u001b[0m\n",
      "\u001b[0;32m/opt/anaconda3/lib/python3.6/site-packages/matplotlib/image.py\u001b[0m in \u001b[0;36m_draw_list_compositing_images\u001b[0;34m(renderer, parent, artists, suppress_composite)\u001b[0m\n\u001b[1;32m    139\u001b[0m     \u001b[0;32mif\u001b[0m \u001b[0mnot_composite\u001b[0m \u001b[0;32mor\u001b[0m \u001b[0;32mnot\u001b[0m \u001b[0mhas_images\u001b[0m\u001b[0;34m:\u001b[0m\u001b[0;34m\u001b[0m\u001b[0m\n\u001b[1;32m    140\u001b[0m         \u001b[0;32mfor\u001b[0m \u001b[0ma\u001b[0m \u001b[0;32min\u001b[0m \u001b[0martists\u001b[0m\u001b[0;34m:\u001b[0m\u001b[0;34m\u001b[0m\u001b[0m\n\u001b[0;32m--> 141\u001b[0;31m             \u001b[0ma\u001b[0m\u001b[0;34m.\u001b[0m\u001b[0mdraw\u001b[0m\u001b[0;34m(\u001b[0m\u001b[0mrenderer\u001b[0m\u001b[0;34m)\u001b[0m\u001b[0;34m\u001b[0m\u001b[0m\n\u001b[0m\u001b[1;32m    142\u001b[0m     \u001b[0;32melse\u001b[0m\u001b[0;34m:\u001b[0m\u001b[0;34m\u001b[0m\u001b[0m\n\u001b[1;32m    143\u001b[0m         \u001b[0;31m# Composite any adjacent images together\u001b[0m\u001b[0;34m\u001b[0m\u001b[0;34m\u001b[0m\u001b[0m\n",
      "\u001b[0;32m/opt/anaconda3/lib/python3.6/site-packages/matplotlib/artist.py\u001b[0m in \u001b[0;36mdraw_wrapper\u001b[0;34m(artist, renderer, *args, **kwargs)\u001b[0m\n\u001b[1;32m     53\u001b[0m                 \u001b[0mrenderer\u001b[0m\u001b[0;34m.\u001b[0m\u001b[0mstart_filter\u001b[0m\u001b[0;34m(\u001b[0m\u001b[0;34m)\u001b[0m\u001b[0;34m\u001b[0m\u001b[0m\n\u001b[1;32m     54\u001b[0m \u001b[0;34m\u001b[0m\u001b[0m\n\u001b[0;32m---> 55\u001b[0;31m             \u001b[0;32mreturn\u001b[0m \u001b[0mdraw\u001b[0m\u001b[0;34m(\u001b[0m\u001b[0martist\u001b[0m\u001b[0;34m,\u001b[0m \u001b[0mrenderer\u001b[0m\u001b[0;34m,\u001b[0m \u001b[0;34m*\u001b[0m\u001b[0margs\u001b[0m\u001b[0;34m,\u001b[0m \u001b[0;34m**\u001b[0m\u001b[0mkwargs\u001b[0m\u001b[0;34m)\u001b[0m\u001b[0;34m\u001b[0m\u001b[0m\n\u001b[0m\u001b[1;32m     56\u001b[0m         \u001b[0;32mfinally\u001b[0m\u001b[0;34m:\u001b[0m\u001b[0;34m\u001b[0m\u001b[0m\n\u001b[1;32m     57\u001b[0m             \u001b[0;32mif\u001b[0m \u001b[0martist\u001b[0m\u001b[0;34m.\u001b[0m\u001b[0mget_agg_filter\u001b[0m\u001b[0;34m(\u001b[0m\u001b[0;34m)\u001b[0m \u001b[0;32mis\u001b[0m \u001b[0;32mnot\u001b[0m \u001b[0;32mNone\u001b[0m\u001b[0;34m:\u001b[0m\u001b[0;34m\u001b[0m\u001b[0m\n",
      "\u001b[0;32m/opt/anaconda3/lib/python3.6/site-packages/matplotlib/axes/_base.py\u001b[0m in \u001b[0;36mdraw\u001b[0;34m(self, renderer, inframe)\u001b[0m\n\u001b[1;32m   2605\u001b[0m             \u001b[0mrenderer\u001b[0m\u001b[0;34m.\u001b[0m\u001b[0mstop_rasterizing\u001b[0m\u001b[0;34m(\u001b[0m\u001b[0;34m)\u001b[0m\u001b[0;34m\u001b[0m\u001b[0m\n\u001b[1;32m   2606\u001b[0m \u001b[0;34m\u001b[0m\u001b[0m\n\u001b[0;32m-> 2607\u001b[0;31m         \u001b[0mmimage\u001b[0m\u001b[0;34m.\u001b[0m\u001b[0m_draw_list_compositing_images\u001b[0m\u001b[0;34m(\u001b[0m\u001b[0mrenderer\u001b[0m\u001b[0;34m,\u001b[0m \u001b[0mself\u001b[0m\u001b[0;34m,\u001b[0m \u001b[0martists\u001b[0m\u001b[0;34m)\u001b[0m\u001b[0;34m\u001b[0m\u001b[0m\n\u001b[0m\u001b[1;32m   2608\u001b[0m \u001b[0;34m\u001b[0m\u001b[0m\n\u001b[1;32m   2609\u001b[0m         \u001b[0mrenderer\u001b[0m\u001b[0;34m.\u001b[0m\u001b[0mclose_group\u001b[0m\u001b[0;34m(\u001b[0m\u001b[0;34m'axes'\u001b[0m\u001b[0;34m)\u001b[0m\u001b[0;34m\u001b[0m\u001b[0m\n",
      "\u001b[0;32m/opt/anaconda3/lib/python3.6/site-packages/matplotlib/image.py\u001b[0m in \u001b[0;36m_draw_list_compositing_images\u001b[0;34m(renderer, parent, artists, suppress_composite)\u001b[0m\n\u001b[1;32m    139\u001b[0m     \u001b[0;32mif\u001b[0m \u001b[0mnot_composite\u001b[0m \u001b[0;32mor\u001b[0m \u001b[0;32mnot\u001b[0m \u001b[0mhas_images\u001b[0m\u001b[0;34m:\u001b[0m\u001b[0;34m\u001b[0m\u001b[0m\n\u001b[1;32m    140\u001b[0m         \u001b[0;32mfor\u001b[0m \u001b[0ma\u001b[0m \u001b[0;32min\u001b[0m \u001b[0martists\u001b[0m\u001b[0;34m:\u001b[0m\u001b[0;34m\u001b[0m\u001b[0m\n\u001b[0;32m--> 141\u001b[0;31m             \u001b[0ma\u001b[0m\u001b[0;34m.\u001b[0m\u001b[0mdraw\u001b[0m\u001b[0;34m(\u001b[0m\u001b[0mrenderer\u001b[0m\u001b[0;34m)\u001b[0m\u001b[0;34m\u001b[0m\u001b[0m\n\u001b[0m\u001b[1;32m    142\u001b[0m     \u001b[0;32melse\u001b[0m\u001b[0;34m:\u001b[0m\u001b[0;34m\u001b[0m\u001b[0m\n\u001b[1;32m    143\u001b[0m         \u001b[0;31m# Composite any adjacent images together\u001b[0m\u001b[0;34m\u001b[0m\u001b[0;34m\u001b[0m\u001b[0m\n",
      "\u001b[0;32m/opt/anaconda3/lib/python3.6/site-packages/matplotlib/artist.py\u001b[0m in \u001b[0;36mdraw_wrapper\u001b[0;34m(artist, renderer, *args, **kwargs)\u001b[0m\n\u001b[1;32m     53\u001b[0m                 \u001b[0mrenderer\u001b[0m\u001b[0;34m.\u001b[0m\u001b[0mstart_filter\u001b[0m\u001b[0;34m(\u001b[0m\u001b[0;34m)\u001b[0m\u001b[0;34m\u001b[0m\u001b[0m\n\u001b[1;32m     54\u001b[0m \u001b[0;34m\u001b[0m\u001b[0m\n\u001b[0;32m---> 55\u001b[0;31m             \u001b[0;32mreturn\u001b[0m \u001b[0mdraw\u001b[0m\u001b[0;34m(\u001b[0m\u001b[0martist\u001b[0m\u001b[0;34m,\u001b[0m \u001b[0mrenderer\u001b[0m\u001b[0;34m,\u001b[0m \u001b[0;34m*\u001b[0m\u001b[0margs\u001b[0m\u001b[0;34m,\u001b[0m \u001b[0;34m**\u001b[0m\u001b[0mkwargs\u001b[0m\u001b[0;34m)\u001b[0m\u001b[0;34m\u001b[0m\u001b[0m\n\u001b[0m\u001b[1;32m     56\u001b[0m         \u001b[0;32mfinally\u001b[0m\u001b[0;34m:\u001b[0m\u001b[0;34m\u001b[0m\u001b[0m\n\u001b[1;32m     57\u001b[0m             \u001b[0;32mif\u001b[0m \u001b[0martist\u001b[0m\u001b[0;34m.\u001b[0m\u001b[0mget_agg_filter\u001b[0m\u001b[0;34m(\u001b[0m\u001b[0;34m)\u001b[0m \u001b[0;32mis\u001b[0m \u001b[0;32mnot\u001b[0m \u001b[0;32mNone\u001b[0m\u001b[0;34m:\u001b[0m\u001b[0;34m\u001b[0m\u001b[0m\n",
      "\u001b[0;32m/opt/anaconda3/lib/python3.6/site-packages/matplotlib/lines.py\u001b[0m in \u001b[0;36mdraw\u001b[0;34m(self, renderer)\u001b[0m\n\u001b[1;32m    779\u001b[0m \u001b[0;34m\u001b[0m\u001b[0m\n\u001b[1;32m    780\u001b[0m                 \u001b[0mgc\u001b[0m\u001b[0;34m.\u001b[0m\u001b[0mset_dashes\u001b[0m\u001b[0;34m(\u001b[0m\u001b[0mself\u001b[0m\u001b[0;34m.\u001b[0m\u001b[0m_dashOffset\u001b[0m\u001b[0;34m,\u001b[0m \u001b[0mself\u001b[0m\u001b[0;34m.\u001b[0m\u001b[0m_dashSeq\u001b[0m\u001b[0;34m)\u001b[0m\u001b[0;34m\u001b[0m\u001b[0m\n\u001b[0;32m--> 781\u001b[0;31m                 \u001b[0mrenderer\u001b[0m\u001b[0;34m.\u001b[0m\u001b[0mdraw_path\u001b[0m\u001b[0;34m(\u001b[0m\u001b[0mgc\u001b[0m\u001b[0;34m,\u001b[0m \u001b[0mtpath\u001b[0m\u001b[0;34m,\u001b[0m \u001b[0maffine\u001b[0m\u001b[0;34m.\u001b[0m\u001b[0mfrozen\u001b[0m\u001b[0;34m(\u001b[0m\u001b[0;34m)\u001b[0m\u001b[0;34m)\u001b[0m\u001b[0;34m\u001b[0m\u001b[0m\n\u001b[0m\u001b[1;32m    782\u001b[0m                 \u001b[0mgc\u001b[0m\u001b[0;34m.\u001b[0m\u001b[0mrestore\u001b[0m\u001b[0;34m(\u001b[0m\u001b[0;34m)\u001b[0m\u001b[0;34m\u001b[0m\u001b[0m\n\u001b[1;32m    783\u001b[0m \u001b[0;34m\u001b[0m\u001b[0m\n",
      "\u001b[0;32m/opt/anaconda3/lib/python3.6/site-packages/matplotlib/backends/backend_agg.py\u001b[0m in \u001b[0;36mdraw_path\u001b[0;34m(self, gc, path, transform, rgbFace)\u001b[0m\n\u001b[1;32m    171\u001b[0m                 \u001b[0mself\u001b[0m\u001b[0;34m.\u001b[0m\u001b[0m_renderer\u001b[0m\u001b[0;34m.\u001b[0m\u001b[0mdraw_path\u001b[0m\u001b[0;34m(\u001b[0m\u001b[0mgc\u001b[0m\u001b[0;34m,\u001b[0m \u001b[0mpath\u001b[0m\u001b[0;34m,\u001b[0m \u001b[0mtransform\u001b[0m\u001b[0;34m,\u001b[0m \u001b[0mrgbFace\u001b[0m\u001b[0;34m)\u001b[0m\u001b[0;34m\u001b[0m\u001b[0m\n\u001b[1;32m    172\u001b[0m             \u001b[0;32mexcept\u001b[0m \u001b[0mOverflowError\u001b[0m\u001b[0;34m:\u001b[0m\u001b[0;34m\u001b[0m\u001b[0m\n\u001b[0;32m--> 173\u001b[0;31m                 raise OverflowError(\"Exceeded cell block limit (set \"\n\u001b[0m\u001b[1;32m    174\u001b[0m                                     \"'agg.path.chunksize' rcparam)\")\n\u001b[1;32m    175\u001b[0m \u001b[0;34m\u001b[0m\u001b[0m\n",
      "\u001b[0;31mOverflowError\u001b[0m: Exceeded cell block limit (set 'agg.path.chunksize' rcparam)"
     ]
    },
    {
     "ename": "OverflowError",
     "evalue": "Exceeded cell block limit (set 'agg.path.chunksize' rcparam)",
     "output_type": "error",
     "traceback": [
      "\u001b[0;31m---------------------------------------------------------------------------\u001b[0m",
      "\u001b[0;31mOverflowError\u001b[0m                             Traceback (most recent call last)",
      "\u001b[0;32m/opt/anaconda3/lib/python3.6/site-packages/matplotlib/backends/backend_agg.py\u001b[0m in \u001b[0;36mdraw_path\u001b[0;34m(self, gc, path, transform, rgbFace)\u001b[0m\n\u001b[1;32m    170\u001b[0m             \u001b[0;32mtry\u001b[0m\u001b[0;34m:\u001b[0m\u001b[0;34m\u001b[0m\u001b[0m\n\u001b[0;32m--> 171\u001b[0;31m                 \u001b[0mself\u001b[0m\u001b[0;34m.\u001b[0m\u001b[0m_renderer\u001b[0m\u001b[0;34m.\u001b[0m\u001b[0mdraw_path\u001b[0m\u001b[0;34m(\u001b[0m\u001b[0mgc\u001b[0m\u001b[0;34m,\u001b[0m \u001b[0mpath\u001b[0m\u001b[0;34m,\u001b[0m \u001b[0mtransform\u001b[0m\u001b[0;34m,\u001b[0m \u001b[0mrgbFace\u001b[0m\u001b[0;34m)\u001b[0m\u001b[0;34m\u001b[0m\u001b[0m\n\u001b[0m\u001b[1;32m    172\u001b[0m             \u001b[0;32mexcept\u001b[0m \u001b[0mOverflowError\u001b[0m\u001b[0;34m:\u001b[0m\u001b[0;34m\u001b[0m\u001b[0m\n",
      "\u001b[0;31mOverflowError\u001b[0m: In draw_path: Exceeded cell block limit",
      "\nDuring handling of the above exception, another exception occurred:\n",
      "\u001b[0;31mOverflowError\u001b[0m                             Traceback (most recent call last)",
      "\u001b[0;32m/opt/anaconda3/lib/python3.6/site-packages/IPython/core/formatters.py\u001b[0m in \u001b[0;36m__call__\u001b[0;34m(self, obj)\u001b[0m\n\u001b[1;32m    339\u001b[0m                 \u001b[0;32mpass\u001b[0m\u001b[0;34m\u001b[0m\u001b[0m\n\u001b[1;32m    340\u001b[0m             \u001b[0;32melse\u001b[0m\u001b[0;34m:\u001b[0m\u001b[0;34m\u001b[0m\u001b[0m\n\u001b[0;32m--> 341\u001b[0;31m                 \u001b[0;32mreturn\u001b[0m \u001b[0mprinter\u001b[0m\u001b[0;34m(\u001b[0m\u001b[0mobj\u001b[0m\u001b[0;34m)\u001b[0m\u001b[0;34m\u001b[0m\u001b[0m\n\u001b[0m\u001b[1;32m    342\u001b[0m             \u001b[0;31m# Finally look for special method names\u001b[0m\u001b[0;34m\u001b[0m\u001b[0;34m\u001b[0m\u001b[0m\n\u001b[1;32m    343\u001b[0m             \u001b[0mmethod\u001b[0m \u001b[0;34m=\u001b[0m \u001b[0mget_real_method\u001b[0m\u001b[0;34m(\u001b[0m\u001b[0mobj\u001b[0m\u001b[0;34m,\u001b[0m \u001b[0mself\u001b[0m\u001b[0;34m.\u001b[0m\u001b[0mprint_method\u001b[0m\u001b[0;34m)\u001b[0m\u001b[0;34m\u001b[0m\u001b[0m\n",
      "\u001b[0;32m/opt/anaconda3/lib/python3.6/site-packages/IPython/core/pylabtools.py\u001b[0m in \u001b[0;36m<lambda>\u001b[0;34m(fig)\u001b[0m\n\u001b[1;32m    239\u001b[0m \u001b[0;34m\u001b[0m\u001b[0m\n\u001b[1;32m    240\u001b[0m     \u001b[0;32mif\u001b[0m \u001b[0;34m'png'\u001b[0m \u001b[0;32min\u001b[0m \u001b[0mformats\u001b[0m\u001b[0;34m:\u001b[0m\u001b[0;34m\u001b[0m\u001b[0m\n\u001b[0;32m--> 241\u001b[0;31m         \u001b[0mpng_formatter\u001b[0m\u001b[0;34m.\u001b[0m\u001b[0mfor_type\u001b[0m\u001b[0;34m(\u001b[0m\u001b[0mFigure\u001b[0m\u001b[0;34m,\u001b[0m \u001b[0;32mlambda\u001b[0m \u001b[0mfig\u001b[0m\u001b[0;34m:\u001b[0m \u001b[0mprint_figure\u001b[0m\u001b[0;34m(\u001b[0m\u001b[0mfig\u001b[0m\u001b[0;34m,\u001b[0m \u001b[0;34m'png'\u001b[0m\u001b[0;34m,\u001b[0m \u001b[0;34m**\u001b[0m\u001b[0mkwargs\u001b[0m\u001b[0;34m)\u001b[0m\u001b[0;34m)\u001b[0m\u001b[0;34m\u001b[0m\u001b[0m\n\u001b[0m\u001b[1;32m    242\u001b[0m     \u001b[0;32mif\u001b[0m \u001b[0;34m'retina'\u001b[0m \u001b[0;32min\u001b[0m \u001b[0mformats\u001b[0m \u001b[0;32mor\u001b[0m \u001b[0;34m'png2x'\u001b[0m \u001b[0;32min\u001b[0m \u001b[0mformats\u001b[0m\u001b[0;34m:\u001b[0m\u001b[0;34m\u001b[0m\u001b[0m\n\u001b[1;32m    243\u001b[0m         \u001b[0mpng_formatter\u001b[0m\u001b[0;34m.\u001b[0m\u001b[0mfor_type\u001b[0m\u001b[0;34m(\u001b[0m\u001b[0mFigure\u001b[0m\u001b[0;34m,\u001b[0m \u001b[0;32mlambda\u001b[0m \u001b[0mfig\u001b[0m\u001b[0;34m:\u001b[0m \u001b[0mretina_figure\u001b[0m\u001b[0;34m(\u001b[0m\u001b[0mfig\u001b[0m\u001b[0;34m,\u001b[0m \u001b[0;34m**\u001b[0m\u001b[0mkwargs\u001b[0m\u001b[0;34m)\u001b[0m\u001b[0;34m)\u001b[0m\u001b[0;34m\u001b[0m\u001b[0m\n",
      "\u001b[0;32m/opt/anaconda3/lib/python3.6/site-packages/IPython/core/pylabtools.py\u001b[0m in \u001b[0;36mprint_figure\u001b[0;34m(fig, fmt, bbox_inches, **kwargs)\u001b[0m\n\u001b[1;32m    123\u001b[0m \u001b[0;34m\u001b[0m\u001b[0m\n\u001b[1;32m    124\u001b[0m     \u001b[0mbytes_io\u001b[0m \u001b[0;34m=\u001b[0m \u001b[0mBytesIO\u001b[0m\u001b[0;34m(\u001b[0m\u001b[0;34m)\u001b[0m\u001b[0;34m\u001b[0m\u001b[0m\n\u001b[0;32m--> 125\u001b[0;31m     \u001b[0mfig\u001b[0m\u001b[0;34m.\u001b[0m\u001b[0mcanvas\u001b[0m\u001b[0;34m.\u001b[0m\u001b[0mprint_figure\u001b[0m\u001b[0;34m(\u001b[0m\u001b[0mbytes_io\u001b[0m\u001b[0;34m,\u001b[0m \u001b[0;34m**\u001b[0m\u001b[0mkw\u001b[0m\u001b[0;34m)\u001b[0m\u001b[0;34m\u001b[0m\u001b[0m\n\u001b[0m\u001b[1;32m    126\u001b[0m     \u001b[0mdata\u001b[0m \u001b[0;34m=\u001b[0m \u001b[0mbytes_io\u001b[0m\u001b[0;34m.\u001b[0m\u001b[0mgetvalue\u001b[0m\u001b[0;34m(\u001b[0m\u001b[0;34m)\u001b[0m\u001b[0;34m\u001b[0m\u001b[0m\n\u001b[1;32m    127\u001b[0m     \u001b[0;32mif\u001b[0m \u001b[0mfmt\u001b[0m \u001b[0;34m==\u001b[0m \u001b[0;34m'svg'\u001b[0m\u001b[0;34m:\u001b[0m\u001b[0;34m\u001b[0m\u001b[0m\n",
      "\u001b[0;32m/opt/anaconda3/lib/python3.6/site-packages/matplotlib/backend_bases.py\u001b[0m in \u001b[0;36mprint_figure\u001b[0;34m(self, filename, dpi, facecolor, edgecolor, orientation, format, **kwargs)\u001b[0m\n\u001b[1;32m   2210\u001b[0m                     \u001b[0morientation\u001b[0m\u001b[0;34m=\u001b[0m\u001b[0morientation\u001b[0m\u001b[0;34m,\u001b[0m\u001b[0;34m\u001b[0m\u001b[0m\n\u001b[1;32m   2211\u001b[0m                     \u001b[0mdryrun\u001b[0m\u001b[0;34m=\u001b[0m\u001b[0;32mTrue\u001b[0m\u001b[0;34m,\u001b[0m\u001b[0;34m\u001b[0m\u001b[0m\n\u001b[0;32m-> 2212\u001b[0;31m                     **kwargs)\n\u001b[0m\u001b[1;32m   2213\u001b[0m                 \u001b[0mrenderer\u001b[0m \u001b[0;34m=\u001b[0m \u001b[0mself\u001b[0m\u001b[0;34m.\u001b[0m\u001b[0mfigure\u001b[0m\u001b[0;34m.\u001b[0m\u001b[0m_cachedRenderer\u001b[0m\u001b[0;34m\u001b[0m\u001b[0m\n\u001b[1;32m   2214\u001b[0m                 \u001b[0mbbox_inches\u001b[0m \u001b[0;34m=\u001b[0m \u001b[0mself\u001b[0m\u001b[0;34m.\u001b[0m\u001b[0mfigure\u001b[0m\u001b[0;34m.\u001b[0m\u001b[0mget_tightbbox\u001b[0m\u001b[0;34m(\u001b[0m\u001b[0mrenderer\u001b[0m\u001b[0;34m)\u001b[0m\u001b[0;34m\u001b[0m\u001b[0m\n",
      "\u001b[0;32m/opt/anaconda3/lib/python3.6/site-packages/matplotlib/backends/backend_agg.py\u001b[0m in \u001b[0;36mprint_png\u001b[0;34m(self, filename_or_obj, *args, **kwargs)\u001b[0m\n\u001b[1;32m    511\u001b[0m \u001b[0;34m\u001b[0m\u001b[0m\n\u001b[1;32m    512\u001b[0m     \u001b[0;32mdef\u001b[0m \u001b[0mprint_png\u001b[0m\u001b[0;34m(\u001b[0m\u001b[0mself\u001b[0m\u001b[0;34m,\u001b[0m \u001b[0mfilename_or_obj\u001b[0m\u001b[0;34m,\u001b[0m \u001b[0;34m*\u001b[0m\u001b[0margs\u001b[0m\u001b[0;34m,\u001b[0m \u001b[0;34m**\u001b[0m\u001b[0mkwargs\u001b[0m\u001b[0;34m)\u001b[0m\u001b[0;34m:\u001b[0m\u001b[0;34m\u001b[0m\u001b[0m\n\u001b[0;32m--> 513\u001b[0;31m         \u001b[0mFigureCanvasAgg\u001b[0m\u001b[0;34m.\u001b[0m\u001b[0mdraw\u001b[0m\u001b[0;34m(\u001b[0m\u001b[0mself\u001b[0m\u001b[0;34m)\u001b[0m\u001b[0;34m\u001b[0m\u001b[0m\n\u001b[0m\u001b[1;32m    514\u001b[0m         \u001b[0mrenderer\u001b[0m \u001b[0;34m=\u001b[0m \u001b[0mself\u001b[0m\u001b[0;34m.\u001b[0m\u001b[0mget_renderer\u001b[0m\u001b[0;34m(\u001b[0m\u001b[0;34m)\u001b[0m\u001b[0;34m\u001b[0m\u001b[0m\n\u001b[1;32m    515\u001b[0m         \u001b[0moriginal_dpi\u001b[0m \u001b[0;34m=\u001b[0m \u001b[0mrenderer\u001b[0m\u001b[0;34m.\u001b[0m\u001b[0mdpi\u001b[0m\u001b[0;34m\u001b[0m\u001b[0m\n",
      "\u001b[0;32m/opt/anaconda3/lib/python3.6/site-packages/matplotlib/backends/backend_agg.py\u001b[0m in \u001b[0;36mdraw\u001b[0;34m(self)\u001b[0m\n\u001b[1;32m    431\u001b[0m             \u001b[0;31m# if toolbar:\u001b[0m\u001b[0;34m\u001b[0m\u001b[0;34m\u001b[0m\u001b[0m\n\u001b[1;32m    432\u001b[0m             \u001b[0;31m#     toolbar.set_cursor(cursors.WAIT)\u001b[0m\u001b[0;34m\u001b[0m\u001b[0;34m\u001b[0m\u001b[0m\n\u001b[0;32m--> 433\u001b[0;31m             \u001b[0mself\u001b[0m\u001b[0;34m.\u001b[0m\u001b[0mfigure\u001b[0m\u001b[0;34m.\u001b[0m\u001b[0mdraw\u001b[0m\u001b[0;34m(\u001b[0m\u001b[0mself\u001b[0m\u001b[0;34m.\u001b[0m\u001b[0mrenderer\u001b[0m\u001b[0;34m)\u001b[0m\u001b[0;34m\u001b[0m\u001b[0m\n\u001b[0m\u001b[1;32m    434\u001b[0m             \u001b[0;31m# A GUI class may be need to update a window using this draw, so\u001b[0m\u001b[0;34m\u001b[0m\u001b[0;34m\u001b[0m\u001b[0m\n\u001b[1;32m    435\u001b[0m             \u001b[0;31m# don't forget to call the superclass.\u001b[0m\u001b[0;34m\u001b[0m\u001b[0;34m\u001b[0m\u001b[0m\n",
      "\u001b[0;32m/opt/anaconda3/lib/python3.6/site-packages/matplotlib/artist.py\u001b[0m in \u001b[0;36mdraw_wrapper\u001b[0;34m(artist, renderer, *args, **kwargs)\u001b[0m\n\u001b[1;32m     53\u001b[0m                 \u001b[0mrenderer\u001b[0m\u001b[0;34m.\u001b[0m\u001b[0mstart_filter\u001b[0m\u001b[0;34m(\u001b[0m\u001b[0;34m)\u001b[0m\u001b[0;34m\u001b[0m\u001b[0m\n\u001b[1;32m     54\u001b[0m \u001b[0;34m\u001b[0m\u001b[0m\n\u001b[0;32m---> 55\u001b[0;31m             \u001b[0;32mreturn\u001b[0m \u001b[0mdraw\u001b[0m\u001b[0;34m(\u001b[0m\u001b[0martist\u001b[0m\u001b[0;34m,\u001b[0m \u001b[0mrenderer\u001b[0m\u001b[0;34m,\u001b[0m \u001b[0;34m*\u001b[0m\u001b[0margs\u001b[0m\u001b[0;34m,\u001b[0m \u001b[0;34m**\u001b[0m\u001b[0mkwargs\u001b[0m\u001b[0;34m)\u001b[0m\u001b[0;34m\u001b[0m\u001b[0m\n\u001b[0m\u001b[1;32m     56\u001b[0m         \u001b[0;32mfinally\u001b[0m\u001b[0;34m:\u001b[0m\u001b[0;34m\u001b[0m\u001b[0m\n\u001b[1;32m     57\u001b[0m             \u001b[0;32mif\u001b[0m \u001b[0martist\u001b[0m\u001b[0;34m.\u001b[0m\u001b[0mget_agg_filter\u001b[0m\u001b[0;34m(\u001b[0m\u001b[0;34m)\u001b[0m \u001b[0;32mis\u001b[0m \u001b[0;32mnot\u001b[0m \u001b[0;32mNone\u001b[0m\u001b[0;34m:\u001b[0m\u001b[0;34m\u001b[0m\u001b[0m\n",
      "\u001b[0;32m/opt/anaconda3/lib/python3.6/site-packages/matplotlib/figure.py\u001b[0m in \u001b[0;36mdraw\u001b[0;34m(self, renderer)\u001b[0m\n\u001b[1;32m   1473\u001b[0m \u001b[0;34m\u001b[0m\u001b[0m\n\u001b[1;32m   1474\u001b[0m             mimage._draw_list_compositing_images(\n\u001b[0;32m-> 1475\u001b[0;31m                 renderer, self, artists, self.suppressComposite)\n\u001b[0m\u001b[1;32m   1476\u001b[0m \u001b[0;34m\u001b[0m\u001b[0m\n\u001b[1;32m   1477\u001b[0m             \u001b[0mrenderer\u001b[0m\u001b[0;34m.\u001b[0m\u001b[0mclose_group\u001b[0m\u001b[0;34m(\u001b[0m\u001b[0;34m'figure'\u001b[0m\u001b[0;34m)\u001b[0m\u001b[0;34m\u001b[0m\u001b[0m\n",
      "\u001b[0;32m/opt/anaconda3/lib/python3.6/site-packages/matplotlib/image.py\u001b[0m in \u001b[0;36m_draw_list_compositing_images\u001b[0;34m(renderer, parent, artists, suppress_composite)\u001b[0m\n\u001b[1;32m    139\u001b[0m     \u001b[0;32mif\u001b[0m \u001b[0mnot_composite\u001b[0m \u001b[0;32mor\u001b[0m \u001b[0;32mnot\u001b[0m \u001b[0mhas_images\u001b[0m\u001b[0;34m:\u001b[0m\u001b[0;34m\u001b[0m\u001b[0m\n\u001b[1;32m    140\u001b[0m         \u001b[0;32mfor\u001b[0m \u001b[0ma\u001b[0m \u001b[0;32min\u001b[0m \u001b[0martists\u001b[0m\u001b[0;34m:\u001b[0m\u001b[0;34m\u001b[0m\u001b[0m\n\u001b[0;32m--> 141\u001b[0;31m             \u001b[0ma\u001b[0m\u001b[0;34m.\u001b[0m\u001b[0mdraw\u001b[0m\u001b[0;34m(\u001b[0m\u001b[0mrenderer\u001b[0m\u001b[0;34m)\u001b[0m\u001b[0;34m\u001b[0m\u001b[0m\n\u001b[0m\u001b[1;32m    142\u001b[0m     \u001b[0;32melse\u001b[0m\u001b[0;34m:\u001b[0m\u001b[0;34m\u001b[0m\u001b[0m\n\u001b[1;32m    143\u001b[0m         \u001b[0;31m# Composite any adjacent images together\u001b[0m\u001b[0;34m\u001b[0m\u001b[0;34m\u001b[0m\u001b[0m\n",
      "\u001b[0;32m/opt/anaconda3/lib/python3.6/site-packages/matplotlib/artist.py\u001b[0m in \u001b[0;36mdraw_wrapper\u001b[0;34m(artist, renderer, *args, **kwargs)\u001b[0m\n\u001b[1;32m     53\u001b[0m                 \u001b[0mrenderer\u001b[0m\u001b[0;34m.\u001b[0m\u001b[0mstart_filter\u001b[0m\u001b[0;34m(\u001b[0m\u001b[0;34m)\u001b[0m\u001b[0;34m\u001b[0m\u001b[0m\n\u001b[1;32m     54\u001b[0m \u001b[0;34m\u001b[0m\u001b[0m\n\u001b[0;32m---> 55\u001b[0;31m             \u001b[0;32mreturn\u001b[0m \u001b[0mdraw\u001b[0m\u001b[0;34m(\u001b[0m\u001b[0martist\u001b[0m\u001b[0;34m,\u001b[0m \u001b[0mrenderer\u001b[0m\u001b[0;34m,\u001b[0m \u001b[0;34m*\u001b[0m\u001b[0margs\u001b[0m\u001b[0;34m,\u001b[0m \u001b[0;34m**\u001b[0m\u001b[0mkwargs\u001b[0m\u001b[0;34m)\u001b[0m\u001b[0;34m\u001b[0m\u001b[0m\n\u001b[0m\u001b[1;32m     56\u001b[0m         \u001b[0;32mfinally\u001b[0m\u001b[0;34m:\u001b[0m\u001b[0;34m\u001b[0m\u001b[0m\n\u001b[1;32m     57\u001b[0m             \u001b[0;32mif\u001b[0m \u001b[0martist\u001b[0m\u001b[0;34m.\u001b[0m\u001b[0mget_agg_filter\u001b[0m\u001b[0;34m(\u001b[0m\u001b[0;34m)\u001b[0m \u001b[0;32mis\u001b[0m \u001b[0;32mnot\u001b[0m \u001b[0;32mNone\u001b[0m\u001b[0;34m:\u001b[0m\u001b[0;34m\u001b[0m\u001b[0m\n",
      "\u001b[0;32m/opt/anaconda3/lib/python3.6/site-packages/matplotlib/axes/_base.py\u001b[0m in \u001b[0;36mdraw\u001b[0;34m(self, renderer, inframe)\u001b[0m\n\u001b[1;32m   2598\u001b[0m         \u001b[0;31m# will draw the edges\u001b[0m\u001b[0;34m\u001b[0m\u001b[0;34m\u001b[0m\u001b[0m\n\u001b[1;32m   2599\u001b[0m         \u001b[0;32mif\u001b[0m \u001b[0mself\u001b[0m\u001b[0;34m.\u001b[0m\u001b[0maxison\u001b[0m \u001b[0;32mand\u001b[0m \u001b[0mself\u001b[0m\u001b[0;34m.\u001b[0m\u001b[0m_frameon\u001b[0m\u001b[0;34m:\u001b[0m\u001b[0;34m\u001b[0m\u001b[0m\n\u001b[0;32m-> 2600\u001b[0;31m             \u001b[0mself\u001b[0m\u001b[0;34m.\u001b[0m\u001b[0mpatch\u001b[0m\u001b[0;34m.\u001b[0m\u001b[0mdraw\u001b[0m\u001b[0;34m(\u001b[0m\u001b[0mrenderer\u001b[0m\u001b[0;34m)\u001b[0m\u001b[0;34m\u001b[0m\u001b[0m\n\u001b[0m\u001b[1;32m   2601\u001b[0m \u001b[0;34m\u001b[0m\u001b[0m\n\u001b[1;32m   2602\u001b[0m         \u001b[0;32mif\u001b[0m \u001b[0martists_rasterized\u001b[0m\u001b[0;34m:\u001b[0m\u001b[0;34m\u001b[0m\u001b[0m\n",
      "\u001b[0;32m/opt/anaconda3/lib/python3.6/site-packages/matplotlib/artist.py\u001b[0m in \u001b[0;36mdraw_wrapper\u001b[0;34m(artist, renderer, *args, **kwargs)\u001b[0m\n\u001b[1;32m     53\u001b[0m                 \u001b[0mrenderer\u001b[0m\u001b[0;34m.\u001b[0m\u001b[0mstart_filter\u001b[0m\u001b[0;34m(\u001b[0m\u001b[0;34m)\u001b[0m\u001b[0;34m\u001b[0m\u001b[0m\n\u001b[1;32m     54\u001b[0m \u001b[0;34m\u001b[0m\u001b[0m\n\u001b[0;32m---> 55\u001b[0;31m             \u001b[0;32mreturn\u001b[0m \u001b[0mdraw\u001b[0m\u001b[0;34m(\u001b[0m\u001b[0martist\u001b[0m\u001b[0;34m,\u001b[0m \u001b[0mrenderer\u001b[0m\u001b[0;34m,\u001b[0m \u001b[0;34m*\u001b[0m\u001b[0margs\u001b[0m\u001b[0;34m,\u001b[0m \u001b[0;34m**\u001b[0m\u001b[0mkwargs\u001b[0m\u001b[0;34m)\u001b[0m\u001b[0;34m\u001b[0m\u001b[0m\n\u001b[0m\u001b[1;32m     56\u001b[0m         \u001b[0;32mfinally\u001b[0m\u001b[0;34m:\u001b[0m\u001b[0;34m\u001b[0m\u001b[0m\n\u001b[1;32m     57\u001b[0m             \u001b[0;32mif\u001b[0m \u001b[0martist\u001b[0m\u001b[0;34m.\u001b[0m\u001b[0mget_agg_filter\u001b[0m\u001b[0;34m(\u001b[0m\u001b[0;34m)\u001b[0m \u001b[0;32mis\u001b[0m \u001b[0;32mnot\u001b[0m \u001b[0;32mNone\u001b[0m\u001b[0;34m:\u001b[0m\u001b[0;34m\u001b[0m\u001b[0m\n",
      "\u001b[0;32m/opt/anaconda3/lib/python3.6/site-packages/matplotlib/patches.py\u001b[0m in \u001b[0;36mdraw\u001b[0;34m(self, renderer)\u001b[0m\n\u001b[1;32m    556\u001b[0m             \u001b[0mrenderer\u001b[0m \u001b[0;34m=\u001b[0m \u001b[0mPathEffectRenderer\u001b[0m\u001b[0;34m(\u001b[0m\u001b[0mself\u001b[0m\u001b[0;34m.\u001b[0m\u001b[0mget_path_effects\u001b[0m\u001b[0;34m(\u001b[0m\u001b[0;34m)\u001b[0m\u001b[0;34m,\u001b[0m \u001b[0mrenderer\u001b[0m\u001b[0;34m)\u001b[0m\u001b[0;34m\u001b[0m\u001b[0m\n\u001b[1;32m    557\u001b[0m \u001b[0;34m\u001b[0m\u001b[0m\n\u001b[0;32m--> 558\u001b[0;31m         \u001b[0mrenderer\u001b[0m\u001b[0;34m.\u001b[0m\u001b[0mdraw_path\u001b[0m\u001b[0;34m(\u001b[0m\u001b[0mgc\u001b[0m\u001b[0;34m,\u001b[0m \u001b[0mtpath\u001b[0m\u001b[0;34m,\u001b[0m \u001b[0maffine\u001b[0m\u001b[0;34m,\u001b[0m \u001b[0mrgbFace\u001b[0m\u001b[0;34m)\u001b[0m\u001b[0;34m\u001b[0m\u001b[0m\n\u001b[0m\u001b[1;32m    559\u001b[0m \u001b[0;34m\u001b[0m\u001b[0m\n\u001b[1;32m    560\u001b[0m         \u001b[0mgc\u001b[0m\u001b[0;34m.\u001b[0m\u001b[0mrestore\u001b[0m\u001b[0;34m(\u001b[0m\u001b[0;34m)\u001b[0m\u001b[0;34m\u001b[0m\u001b[0m\n",
      "\u001b[0;32m/opt/anaconda3/lib/python3.6/site-packages/matplotlib/backends/backend_agg.py\u001b[0m in \u001b[0;36mdraw_path\u001b[0;34m(self, gc, path, transform, rgbFace)\u001b[0m\n\u001b[1;32m    171\u001b[0m                 \u001b[0mself\u001b[0m\u001b[0;34m.\u001b[0m\u001b[0m_renderer\u001b[0m\u001b[0;34m.\u001b[0m\u001b[0mdraw_path\u001b[0m\u001b[0;34m(\u001b[0m\u001b[0mgc\u001b[0m\u001b[0;34m,\u001b[0m \u001b[0mpath\u001b[0m\u001b[0;34m,\u001b[0m \u001b[0mtransform\u001b[0m\u001b[0;34m,\u001b[0m \u001b[0mrgbFace\u001b[0m\u001b[0;34m)\u001b[0m\u001b[0;34m\u001b[0m\u001b[0m\n\u001b[1;32m    172\u001b[0m             \u001b[0;32mexcept\u001b[0m \u001b[0mOverflowError\u001b[0m\u001b[0;34m:\u001b[0m\u001b[0;34m\u001b[0m\u001b[0m\n\u001b[0;32m--> 173\u001b[0;31m                 raise OverflowError(\"Exceeded cell block limit (set \"\n\u001b[0m\u001b[1;32m    174\u001b[0m                                     \"'agg.path.chunksize' rcparam)\")\n\u001b[1;32m    175\u001b[0m \u001b[0;34m\u001b[0m\u001b[0m\n",
      "\u001b[0;31mOverflowError\u001b[0m: Exceeded cell block limit (set 'agg.path.chunksize' rcparam)"
     ]
    },
    {
     "data": {
      "text/plain": [
       "<Figure size 432x288 with 1 Axes>"
      ]
     },
     "metadata": {},
     "output_type": "display_data"
    }
   ],
   "source": [
    "# Problem 4\n",
    "# Follow the example from the Central Limit Theorem cells in BasicStats2.ipynb \n",
    "# Create a distribution of 1000000 from N(0,1)\n",
    "# Draws of  χ2  for N=2 and N=5\n",
    "# Overplot the theoretical pdf (it will help to use scipy.special.gamma()).\n",
    "\n",
    "\n",
    "# Attempt #1\n",
    "from scipy.stats import chi2\n",
    "\n",
    "N = 1000000\n",
    "mu = 0\n",
    "sigma = 1\n",
    "normDist = norm(mu,sigma)\n",
    "normData = normDist.rvs(N)\n",
    "\n",
    "data2 = chi2(2).rvs(N)\n",
    "data5 = chi2(5).rvs(N)\n",
    "\n",
    "plt.plot(normData,data2)\n",
    "plt.plot(normData,data5)\n",
    "\n",
    "\n"
   ]
  },
  {
   "cell_type": "code",
   "execution_count": null,
   "metadata": {},
   "outputs": [],
   "source": []
  }
 ],
 "metadata": {
  "anaconda-cloud": {},
  "kernelspec": {
   "display_name": "Python 3",
   "language": "python",
   "name": "python3"
  },
  "language_info": {
   "codemirror_mode": {
    "name": "ipython",
    "version": 3
   },
   "file_extension": ".py",
   "mimetype": "text/x-python",
   "name": "python",
   "nbconvert_exporter": "python",
   "pygments_lexer": "ipython3",
   "version": "3.6.5"
  }
 },
 "nbformat": 4,
 "nbformat_minor": 2
}
# homeworks-teunissenem
